{
 "cells": [
  {
   "cell_type": "code",
   "execution_count": 1,
   "metadata": {},
   "outputs": [],
   "source": [
    "import os\n",
    "import requests\n",
    "import pandas as pd"
   ]
  },
  {
   "cell_type": "code",
   "execution_count": 103,
   "metadata": {},
   "outputs": [],
   "source": [
    "# move to exceptions.py or errors.py in future\n",
    "# https://docs.python.org/3/tutorial/errors.html\n",
    "\n",
    "class Error(Exception):\n",
    "    \"\"\"Base class for exceptions in this module.\"\"\"\n",
    "    pass\n",
    "\n",
    "class ResponseError(Error):\n",
    "    \"\"\"Exception raised for errors in the API response.\n",
    "\n",
    "    Attributes:\n",
    "        message -- explanation of the error\n",
    "    \"\"\"\n",
    "\n",
    "    def __init__(self, message):\n",
    "        self.message = message\n",
    "\n",
    "class ApiKeyError(Error):\n",
    "    \"\"\"Exception raised for errors in the API response.\n",
    "\n",
    "    Attributes:\n",
    "        message -- explanation of the error\n",
    "    \"\"\"\n",
    "\n",
    "    def __init__(self, message):\n",
    "        self.message = message"
   ]
  },
  {
   "cell_type": "code",
   "execution_count": 155,
   "metadata": {},
   "outputs": [],
   "source": [
    "# TODO: Move to module at some point\n",
    "class PhishNetAPI:\n",
    "    \"\"\"\n",
    "    Too lazy rn\n",
    "    \"\"\"\n",
    "    \n",
    "    def __init__(self):\n",
    "        \"\"\"\n",
    "        Too lazy rn\n",
    "        \"\"\"\n",
    "        self._api_key = os.environ.get('PHISH_API_KEY')\n",
    "        self._base_url = 'https://api.phish.net/v3'\n",
    "        self._request_limit = 120\n",
    "        if self._api_key is None: \n",
    "            raise ApiKeyError('No API key found. Check your environment' \\\n",
    "                             'variables and try again.')\n",
    "        else: \n",
    "            self.has_api_key = True\n",
    "            \n",
    "    \n",
    "    # ----------------------- Response Error Handling Utilities -----------------------\n",
    "    \n",
    "    def _is_ok_response(self, response):\n",
    "        \"\"\"\n",
    "        Too lazy rn\n",
    "        \"\"\"\n",
    "        if response.status_code == requests.codes.ok: \n",
    "            pass\n",
    "        else: \n",
    "            response.raise_for_status()\n",
    "        \n",
    "    \n",
    "    def _response_has_error(self, response):\n",
    "        \"\"\"\n",
    "        Too lazy rn\n",
    "        \"\"\"        \n",
    "        json_response = response.json()\n",
    "        if json_response.get('error_code') != 0:\n",
    "            raise ResponseError(f\"error code {json_response.get('error_code')}: \" \\\n",
    "                                f\"{json_response.get('error_message')}\")\n",
    "            \n",
    "    # ----------------------- Query Parameter Utilities -----------------------\n",
    "\n",
    "    def _add_api_key_to_query_params(self):\n",
    "        \"\"\"\n",
    "        Too lazy rn\n",
    "        doc: http://docs.python-requests.org/en/master/user/quickstart/\n",
    "        \"\"\"\n",
    "        payload = {}\n",
    "        payload['apikey'] = self._api_key\n",
    "        return payload\n",
    "            \n",
    "                                \n",
    "    def _mask_api_key_from_url(self, response, payload):\n",
    "        \"\"\"\n",
    "        Too lazy rn\n",
    "        \"\"\"\n",
    "        \n",
    "        url = response.url.replace(payload['apikey'], '<<apikey>>')\n",
    "                                \n",
    "        return url\n",
    "         \n",
    "                                \n",
    "    def _mask_api_key_from_query_string(self, response, payload, endpoint):\n",
    "        \"\"\"\n",
    "        Too lazy rn\n",
    "        \"\"\"\n",
    "        \n",
    "        masked_url = response.url.replace(payload['apikey'], '<<apikey>>')\n",
    "        query_string = masked_url.replace(endpoint, '')                       \n",
    "        return query_string\n",
    "    \n",
    "    # ----------------------- URL Utilities -----------------------\n",
    "\n",
    "    def _append_endpoint(self, url, endpoint):\n",
    "        \"\"\"\n",
    "        Too lazy rn\n",
    "        \"\"\"\n",
    "        \n",
    "        return url + endpoint\n",
    "    \n",
    "    \n",
    "    # ----------------------- Endpoint methods (GET, POST) -----------------------\n",
    "                                \n",
    "    def get_all_venues(self):\n",
    "        \"\"\"\n",
    "        Too lazy rn\n",
    "        \"\"\"\n",
    "        \n",
    "        endpoint = '/venues/all'\n",
    "        self.endpoint_ = self._append_endpoint(self._base_url, endpoint)\n",
    "                                \n",
    "        payload = self._add_api_key_to_query_params()\n",
    "        response = requests.request(\"GET\", self.endpoint_, params=payload)\n",
    "                                \n",
    "        self.url_ = self._mask_api_key_from_url(response, payload)\n",
    "        self.query_string_ = self._mask_api_key_from_query_string(response, payload, self.endpoint_)\n",
    "        \n",
    "        self._is_ok_response(response)\n",
    "        self._response_has_error(response)\n",
    "                                \n",
    "        venues = pd.DataFrame(response.json().get('response').get('data')).transpose()\n",
    "                                \n",
    "        return venues\n",
    "        "
   ]
  },
  {
   "cell_type": "code",
   "execution_count": 156,
   "metadata": {},
   "outputs": [],
   "source": [
    "phish_api = PhishNetAPI()"
   ]
  },
  {
   "cell_type": "code",
   "execution_count": 157,
   "metadata": {},
   "outputs": [],
   "source": [
    "venues = phish_api.get_all_venues()"
   ]
  },
  {
   "cell_type": "code",
   "execution_count": 158,
   "metadata": {},
   "outputs": [
    {
     "data": {
      "text/plain": [
       "True"
      ]
     },
     "execution_count": 158,
     "metadata": {},
     "output_type": "execute_result"
    }
   ],
   "source": [
    "phish_api.has_api_key"
   ]
  },
  {
   "cell_type": "code",
   "execution_count": 159,
   "metadata": {},
   "outputs": [
    {
     "data": {
      "text/plain": [
       "'https://api.phish.net/v3/venues/all'"
      ]
     },
     "execution_count": 159,
     "metadata": {},
     "output_type": "execute_result"
    }
   ],
   "source": [
    "phish_api.endpoint_"
   ]
  },
  {
   "cell_type": "code",
   "execution_count": 160,
   "metadata": {},
   "outputs": [
    {
     "data": {
      "text/plain": [
       "'https://api.phish.net/v3/venues/all?apikey=<<apikey>>'"
      ]
     },
     "execution_count": 160,
     "metadata": {},
     "output_type": "execute_result"
    }
   ],
   "source": [
    "phish_api.url_"
   ]
  },
  {
   "cell_type": "code",
   "execution_count": 161,
   "metadata": {},
   "outputs": [
    {
     "data": {
      "text/plain": [
       "'?apikey=<<apikey>>'"
      ]
     },
     "execution_count": 161,
     "metadata": {},
     "output_type": "execute_result"
    }
   ],
   "source": [
    "phish_api.query_string_"
   ]
  },
  {
   "cell_type": "code",
   "execution_count": 145,
   "metadata": {},
   "outputs": [
    {
     "data": {
      "text/html": [
       "<div>\n",
       "<style scoped>\n",
       "    .dataframe tbody tr th:only-of-type {\n",
       "        vertical-align: middle;\n",
       "    }\n",
       "\n",
       "    .dataframe tbody tr th {\n",
       "        vertical-align: top;\n",
       "    }\n",
       "\n",
       "    .dataframe thead th {\n",
       "        text-align: right;\n",
       "    }\n",
       "</style>\n",
       "<table border=\"1\" class=\"dataframe\">\n",
       "  <thead>\n",
       "    <tr style=\"text-align: right;\">\n",
       "      <th></th>\n",
       "      <th>city</th>\n",
       "      <th>country</th>\n",
       "      <th>link</th>\n",
       "      <th>state</th>\n",
       "      <th>venue</th>\n",
       "      <th>venueid</th>\n",
       "    </tr>\n",
       "  </thead>\n",
       "  <tbody>\n",
       "    <tr>\n",
       "      <th>1</th>\n",
       "      <td>Hartford</td>\n",
       "      <td>USA</td>\n",
       "      <td>http://phish.net/venue/1/Meadows_Music_Theatre</td>\n",
       "      <td>CT</td>\n",
       "      <td>Meadows Music Theatre</td>\n",
       "      <td>1</td>\n",
       "    </tr>\n",
       "    <tr>\n",
       "      <th>2</th>\n",
       "      <td>Burlington</td>\n",
       "      <td>USA</td>\n",
       "      <td>http://phish.net/venue/2/Nectar%27s</td>\n",
       "      <td>VT</td>\n",
       "      <td>Nectar's</td>\n",
       "      <td>2</td>\n",
       "    </tr>\n",
       "    <tr>\n",
       "      <th>3</th>\n",
       "      <td>East Troy</td>\n",
       "      <td>USA</td>\n",
       "      <td>http://phish.net/venue/3/Alpine_Valley_Music_T...</td>\n",
       "      <td>WI</td>\n",
       "      <td>Alpine Valley Music Theatre</td>\n",
       "      <td>3</td>\n",
       "    </tr>\n",
       "    <tr>\n",
       "      <th>4</th>\n",
       "      <td>Noblesville</td>\n",
       "      <td>USA</td>\n",
       "      <td>http://phish.net/venue/4/Verizon_Wireless_Musi...</td>\n",
       "      <td>IN</td>\n",
       "      <td>Verizon Wireless Music Center</td>\n",
       "      <td>4</td>\n",
       "    </tr>\n",
       "    <tr>\n",
       "      <th>5</th>\n",
       "      <td>Weedsport</td>\n",
       "      <td>USA</td>\n",
       "      <td>http://phish.net/venue/5/Cayuga_County_Fairgro...</td>\n",
       "      <td>NY</td>\n",
       "      <td>Cayuga County Fairgrounds</td>\n",
       "      <td>5</td>\n",
       "    </tr>\n",
       "  </tbody>\n",
       "</table>\n",
       "</div>"
      ],
      "text/plain": [
       "          city country                                               link  \\\n",
       "1     Hartford     USA     http://phish.net/venue/1/Meadows_Music_Theatre   \n",
       "2   Burlington     USA                http://phish.net/venue/2/Nectar%27s   \n",
       "3    East Troy     USA  http://phish.net/venue/3/Alpine_Valley_Music_T...   \n",
       "4  Noblesville     USA  http://phish.net/venue/4/Verizon_Wireless_Musi...   \n",
       "5    Weedsport     USA  http://phish.net/venue/5/Cayuga_County_Fairgro...   \n",
       "\n",
       "  state                          venue venueid  \n",
       "1    CT          Meadows Music Theatre       1  \n",
       "2    VT                       Nectar's       2  \n",
       "3    WI    Alpine Valley Music Theatre       3  \n",
       "4    IN  Verizon Wireless Music Center       4  \n",
       "5    NY      Cayuga County Fairgrounds       5  "
      ]
     },
     "execution_count": 145,
     "metadata": {},
     "output_type": "execute_result"
    }
   ],
   "source": [
    "venues.head()"
   ]
  },
  {
   "cell_type": "code",
   "execution_count": 162,
   "metadata": {},
   "outputs": [
    {
     "data": {
      "text/plain": [
       "(772, 6)"
      ]
     },
     "execution_count": 162,
     "metadata": {},
     "output_type": "execute_result"
    }
   ],
   "source": [
    "venues.shape"
   ]
  }
 ],
 "metadata": {
  "kernelspec": {
   "display_name": "phish",
   "language": "python",
   "name": "phish"
  },
  "language_info": {
   "codemirror_mode": {
    "name": "ipython",
    "version": 3
   },
   "file_extension": ".py",
   "mimetype": "text/x-python",
   "name": "python",
   "nbconvert_exporter": "python",
   "pygments_lexer": "ipython3",
   "version": "3.7.3"
  }
 },
 "nbformat": 4,
 "nbformat_minor": 2
}
