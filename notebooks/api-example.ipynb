{
 "cells": [
  {
   "cell_type": "code",
   "execution_count": 1,
   "metadata": {},
   "outputs": [],
   "source": [
    "import os\n",
    "import sys\n",
    "import pandas as pd"
   ]
  },
  {
   "cell_type": "code",
   "execution_count": 2,
   "metadata": {},
   "outputs": [],
   "source": [
    "module_path = os.path.abspath(os.path.join('../'))\n",
    "if module_path not in sys.path:\n",
    "    sys.path.append(module_path)"
   ]
  },
  {
   "cell_type": "code",
   "execution_count": 3,
   "metadata": {},
   "outputs": [],
   "source": [
    "%load_ext autoreload\n",
    "%autoreload 2\n",
    "\n",
    "import pyphish\n",
    "from pyphish.api import PhishNetAPI"
   ]
  },
  {
   "cell_type": "code",
   "execution_count": 4,
   "metadata": {},
   "outputs": [],
   "source": [
    "phish_api = PhishNetAPI()"
   ]
  },
  {
   "cell_type": "code",
   "execution_count": 5,
   "metadata": {},
   "outputs": [],
   "source": [
    "venues = phish_api.get_all_venues()"
   ]
  },
  {
   "cell_type": "code",
   "execution_count": 6,
   "metadata": {},
   "outputs": [
    {
     "data": {
      "text/plain": [
       "True"
      ]
     },
     "execution_count": 6,
     "metadata": {},
     "output_type": "execute_result"
    }
   ],
   "source": [
    "phish_api.has_api_key"
   ]
  },
  {
   "cell_type": "code",
   "execution_count": 7,
   "metadata": {},
   "outputs": [
    {
     "data": {
      "text/plain": [
       "'https://api.phish.net/v3/venues/all'"
      ]
     },
     "execution_count": 7,
     "metadata": {},
     "output_type": "execute_result"
    }
   ],
   "source": [
    "phish_api.endpoint_"
   ]
  },
  {
   "cell_type": "code",
   "execution_count": 8,
   "metadata": {},
   "outputs": [
    {
     "data": {
      "text/plain": [
       "'https://api.phish.net/v3/venues/all?apikey=<<apikey>>'"
      ]
     },
     "execution_count": 8,
     "metadata": {},
     "output_type": "execute_result"
    }
   ],
   "source": [
    "phish_api.url_"
   ]
  },
  {
   "cell_type": "code",
   "execution_count": 9,
   "metadata": {},
   "outputs": [
    {
     "data": {
      "text/plain": [
       "'?apikey=<<apikey>>'"
      ]
     },
     "execution_count": 9,
     "metadata": {},
     "output_type": "execute_result"
    }
   ],
   "source": [
    "phish_api.query_string_"
   ]
  },
  {
   "cell_type": "code",
   "execution_count": 10,
   "metadata": {},
   "outputs": [
    {
     "data": {
      "text/html": [
       "<div>\n",
       "<style scoped>\n",
       "    .dataframe tbody tr th:only-of-type {\n",
       "        vertical-align: middle;\n",
       "    }\n",
       "\n",
       "    .dataframe tbody tr th {\n",
       "        vertical-align: top;\n",
       "    }\n",
       "\n",
       "    .dataframe thead th {\n",
       "        text-align: right;\n",
       "    }\n",
       "</style>\n",
       "<table border=\"1\" class=\"dataframe\">\n",
       "  <thead>\n",
       "    <tr style=\"text-align: right;\">\n",
       "      <th></th>\n",
       "      <th>city</th>\n",
       "      <th>country</th>\n",
       "      <th>link</th>\n",
       "      <th>state</th>\n",
       "      <th>venue</th>\n",
       "      <th>venueid</th>\n",
       "    </tr>\n",
       "  </thead>\n",
       "  <tbody>\n",
       "    <tr>\n",
       "      <th>1</th>\n",
       "      <td>Hartford</td>\n",
       "      <td>USA</td>\n",
       "      <td>http://phish.net/venue/1/Meadows_Music_Theatre</td>\n",
       "      <td>CT</td>\n",
       "      <td>Meadows Music Theatre</td>\n",
       "      <td>1</td>\n",
       "    </tr>\n",
       "    <tr>\n",
       "      <th>2</th>\n",
       "      <td>Burlington</td>\n",
       "      <td>USA</td>\n",
       "      <td>http://phish.net/venue/2/Nectar%27s</td>\n",
       "      <td>VT</td>\n",
       "      <td>Nectar's</td>\n",
       "      <td>2</td>\n",
       "    </tr>\n",
       "    <tr>\n",
       "      <th>3</th>\n",
       "      <td>East Troy</td>\n",
       "      <td>USA</td>\n",
       "      <td>http://phish.net/venue/3/Alpine_Valley_Music_T...</td>\n",
       "      <td>WI</td>\n",
       "      <td>Alpine Valley Music Theatre</td>\n",
       "      <td>3</td>\n",
       "    </tr>\n",
       "    <tr>\n",
       "      <th>4</th>\n",
       "      <td>Noblesville</td>\n",
       "      <td>USA</td>\n",
       "      <td>http://phish.net/venue/4/Verizon_Wireless_Musi...</td>\n",
       "      <td>IN</td>\n",
       "      <td>Verizon Wireless Music Center</td>\n",
       "      <td>4</td>\n",
       "    </tr>\n",
       "    <tr>\n",
       "      <th>5</th>\n",
       "      <td>Weedsport</td>\n",
       "      <td>USA</td>\n",
       "      <td>http://phish.net/venue/5/Cayuga_County_Fairgro...</td>\n",
       "      <td>NY</td>\n",
       "      <td>Cayuga County Fairgrounds</td>\n",
       "      <td>5</td>\n",
       "    </tr>\n",
       "  </tbody>\n",
       "</table>\n",
       "</div>"
      ],
      "text/plain": [
       "          city country                                               link  \\\n",
       "1     Hartford     USA     http://phish.net/venue/1/Meadows_Music_Theatre   \n",
       "2   Burlington     USA                http://phish.net/venue/2/Nectar%27s   \n",
       "3    East Troy     USA  http://phish.net/venue/3/Alpine_Valley_Music_T...   \n",
       "4  Noblesville     USA  http://phish.net/venue/4/Verizon_Wireless_Musi...   \n",
       "5    Weedsport     USA  http://phish.net/venue/5/Cayuga_County_Fairgro...   \n",
       "\n",
       "  state                          venue venueid  \n",
       "1    CT          Meadows Music Theatre       1  \n",
       "2    VT                       Nectar's       2  \n",
       "3    WI    Alpine Valley Music Theatre       3  \n",
       "4    IN  Verizon Wireless Music Center       4  \n",
       "5    NY      Cayuga County Fairgrounds       5  "
      ]
     },
     "execution_count": 10,
     "metadata": {},
     "output_type": "execute_result"
    }
   ],
   "source": [
    "venues.head()"
   ]
  },
  {
   "cell_type": "code",
   "execution_count": 11,
   "metadata": {},
   "outputs": [
    {
     "data": {
      "text/plain": [
       "(772, 6)"
      ]
     },
     "execution_count": 11,
     "metadata": {},
     "output_type": "execute_result"
    }
   ],
   "source": [
    "venues.shape"
   ]
  }
 ],
 "metadata": {
  "kernelspec": {
   "display_name": "phish",
   "language": "python",
   "name": "phish"
  },
  "language_info": {
   "codemirror_mode": {
    "name": "ipython",
    "version": 3
   },
   "file_extension": ".py",
   "mimetype": "text/x-python",
   "name": "python",
   "nbconvert_exporter": "python",
   "pygments_lexer": "ipython3",
   "version": "3.7.3"
  }
 },
 "nbformat": 4,
 "nbformat_minor": 2
}
